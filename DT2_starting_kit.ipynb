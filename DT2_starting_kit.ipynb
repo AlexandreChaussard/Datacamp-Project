{
 "cells": [
  {
   "cell_type": "markdown",
   "metadata": {},
   "source": [
    "# <a href=\"https://ramp.studio/\">RAMP</a> on detecting Type 2 Diabetes in a non-invasive fashion\n",
    "\n",
    "_Authors:_\n",
    "- AMANI Alexandre\n",
    "- BISCARRAT Lilian\n",
    "- CHAUSSARD Alexandre\n",
    "- CLERGUE Eva\n",
    "- NORMAND Sophie\n",
    "- SALEMBIEN Tom\n",
    "\n",
    "## Introduction\n",
    "\n",
    "Diabetes is a growing disease, affecting over 10% of the worldwide population. The vast majority of diabetics are type 2 diabetics (96%), that is generally characterized by a resistance to insulin, which is a molecule that enables glucose to enter the cells and provide energy. Not being able to properly consume sugar results in several complications that are all tied up to the high sugar level concentration in the blood due to not being able to consume it, resulting in possible blindness, hearth disease, infections, and so on.\n",
    "\n",
    "Therefore, it is one today's most important challenge to properly diagnose diabetics, as short as possible to prevent complications to settle. At the moment, diabetes is diagnosed in multiple ways, one of the most secure and proper one being HbA1c measurement from blood samples. The measurement of HbA1c for a sain individual is around 5.7%, while it is said to be diabetic-like when it reaches 6.5% and more.\n",
    "\n",
    "While this technique has proved to be really efficient in the diagnosis, it has two main downsides that we would like to tackle in this study:\n",
    "- First, HbA1c is a post-disease settlement indicator, as it requires the patient to have abnormally high sugar levels over 3 months to be indicating the disease. One would rather like to be able to diagnose diabetes before it reaches that critical point.\n",
    "- Second, HbA1c being a blood measurement, which is naturally invasive for the patient and some may even be really reluctant and refuse to go for a diagnosis. Also, it requires careful analysis in a medical lab, which obviously costs money.\n",
    "\n",
    "As a result, the goal of our study is to provide a machine learning algorithm that is able to predict whether or not somebody may become diabetic in the coming time, based on blood glucose measurements from a non-invasive Continuous Glucose Monitor (CGM), as well as gathered clinical data for the patient over the duration of the study.\n",
    "\n",
    "(explain what are the features -not too much detail, we got deeper after-, what's the CGM thingy, what's iPro, framework of the study, link to the paper, etc...)\n",
    "\n",
    "## Getting started with the RAMP starting kit"
   ]
  },
  {
   "cell_type": "markdown",
   "metadata": {},
   "source": [
    "### Software prerequisites\n",
    "\n",
    "This starting kit requires the following dependencies:\n",
    "- numpy\n",
    "- pandas\n",
    "- scikit-learn\n",
    "- matplolib\n",
    "- jupyter\n"
   ]
  },
  {
   "cell_type": "markdown",
   "metadata": {},
   "source": [
    "### Getting the data"
   ]
  },
  {
   "cell_type": "markdown",
   "metadata": {},
   "source": [
    "The data are available in the `data` source folder."
   ]
  },
  {
   "cell_type": "markdown",
   "metadata": {},
   "source": [
    "### Explore the dataset"
   ]
  },
  {
   "cell_type": "markdown",
   "metadata": {},
   "source": [
    "#### Clinical data"
   ]
  },
  {
   "cell_type": "markdown",
   "metadata": {},
   "source": [
    "We start with an inspection of the training data set. These are only the clinical data, then we will dive into the CGM ones."
   ]
  },
  {
   "cell_type": "code",
   "execution_count": 1,
   "metadata": {},
   "outputs": [
    {
     "name": "stdout",
     "output_type": "stream",
     "text": [
      "Number of DT2 diagnosed patients in the training set: 7/139\n",
      "Number of DT2 diagnosed patients in the test set: 8/69\n"
     ]
    }
   ],
   "source": [
    "from problem import get_train_data, get_test_data\n",
    "\n",
    "X_train, y_train = get_train_data()\n",
    "X_test, y_test = get_test_data()\n",
    "\n",
    "print(f\"Number of DT2 diagnosed patients in the training set: {str(y_train.sum()/len(y_train) * 100)[0]}/{len(y_train)}\")\n",
    "print(f\"Number of DT2 diagnosed patients in the test set: {str(y_test.sum()/len(y_test) * 100)[0]}/{len(y_test)}\")"
   ]
  },
  {
   "cell_type": "code",
   "execution_count": 2,
   "metadata": {},
   "outputs": [
    {
     "data": {
      "text/html": [
       "<div>\n",
       "<style scoped>\n",
       "    .dataframe tbody tr th:only-of-type {\n",
       "        vertical-align: middle;\n",
       "    }\n",
       "\n",
       "    .dataframe tbody tr th {\n",
       "        vertical-align: top;\n",
       "    }\n",
       "\n",
       "    .dataframe thead th {\n",
       "        text-align: right;\n",
       "    }\n",
       "</style>\n",
       "<table border=\"1\" class=\"dataframe\">\n",
       "  <thead>\n",
       "    <tr style=\"text-align: right;\">\n",
       "      <th></th>\n",
       "      <th>gender</th>\n",
       "      <th>age</th>\n",
       "      <th>BMI</th>\n",
       "      <th>glycaemia</th>\n",
       "    </tr>\n",
       "    <tr>\n",
       "      <th>patient_id</th>\n",
       "      <th></th>\n",
       "      <th></th>\n",
       "      <th></th>\n",
       "      <th></th>\n",
       "    </tr>\n",
       "  </thead>\n",
       "  <tbody>\n",
       "    <tr>\n",
       "      <th>57</th>\n",
       "      <td>1.0</td>\n",
       "      <td>62.0</td>\n",
       "      <td>34.9</td>\n",
       "      <td>84.0</td>\n",
       "    </tr>\n",
       "    <tr>\n",
       "      <th>201</th>\n",
       "      <td>0.0</td>\n",
       "      <td>70.0</td>\n",
       "      <td>27.9</td>\n",
       "      <td>111.0</td>\n",
       "    </tr>\n",
       "    <tr>\n",
       "      <th>56</th>\n",
       "      <td>0.0</td>\n",
       "      <td>46.0</td>\n",
       "      <td>41.1</td>\n",
       "      <td>120.0</td>\n",
       "    </tr>\n",
       "    <tr>\n",
       "      <th>76</th>\n",
       "      <td>0.0</td>\n",
       "      <td>38.0</td>\n",
       "      <td>34.0</td>\n",
       "      <td>98.0</td>\n",
       "    </tr>\n",
       "    <tr>\n",
       "      <th>19</th>\n",
       "      <td>1.0</td>\n",
       "      <td>59.0</td>\n",
       "      <td>32.2</td>\n",
       "      <td>89.0</td>\n",
       "    </tr>\n",
       "  </tbody>\n",
       "</table>\n",
       "</div>"
      ],
      "text/plain": [
       "            gender   age   BMI  glycaemia\n",
       "patient_id                               \n",
       "57             1.0  62.0  34.9       84.0\n",
       "201            0.0  70.0  27.9      111.0\n",
       "56             0.0  46.0  41.1      120.0\n",
       "76             0.0  38.0  34.0       98.0\n",
       "19             1.0  59.0  32.2       89.0"
      ]
     },
     "execution_count": 2,
     "metadata": {},
     "output_type": "execute_result"
    }
   ],
   "source": [
    "X_train.head()"
   ]
  },
  {
   "cell_type": "markdown",
   "metadata": {},
   "source": [
    "Explain the data features here"
   ]
  },
  {
   "cell_type": "markdown",
   "metadata": {},
   "source": [
    "Looking at the gender distribution (...)"
   ]
  },
  {
   "cell_type": "code",
   "execution_count": 3,
   "metadata": {},
   "outputs": [
    {
     "data": {
      "text/plain": [
       "1.0    72\n",
       "0.0    67\n",
       "Name: gender, dtype: int64"
      ]
     },
     "execution_count": 3,
     "metadata": {},
     "output_type": "execute_result"
    }
   ],
   "source": [
    "X_train[\"gender\"].value_counts()"
   ]
  },
  {
   "cell_type": "markdown",
   "metadata": {},
   "source": [
    "etc..."
   ]
  },
  {
   "cell_type": "markdown",
   "metadata": {},
   "source": [
    "##### Focus on the HbA1c\n",
    "\n",
    "The typical diagnosis of diabetes is done through HbA1c blood measurement, which characterizes the glucose value over 3 month. The threshold of 6.5% characterizes diabetic people according to... blablabla\n",
    "\n",
    "One can import the HbA1c measurements of the individual in our dataset. A statistical study is then proceeded."
   ]
  },
  {
   "cell_type": "code",
   "execution_count": 4,
   "metadata": {},
   "outputs": [
    {
     "data": {
      "text/html": [
       "<div>\n",
       "<style scoped>\n",
       "    .dataframe tbody tr th:only-of-type {\n",
       "        vertical-align: middle;\n",
       "    }\n",
       "\n",
       "    .dataframe tbody tr th {\n",
       "        vertical-align: top;\n",
       "    }\n",
       "\n",
       "    .dataframe thead th {\n",
       "        text-align: right;\n",
       "    }\n",
       "</style>\n",
       "<table border=\"1\" class=\"dataframe\">\n",
       "  <thead>\n",
       "    <tr style=\"text-align: right;\">\n",
       "      <th></th>\n",
       "      <th>HbA1c</th>\n",
       "      <th>T2DM</th>\n",
       "    </tr>\n",
       "  </thead>\n",
       "  <tbody>\n",
       "    <tr>\n",
       "      <th>1</th>\n",
       "      <td>6.3</td>\n",
       "      <td>False</td>\n",
       "    </tr>\n",
       "    <tr>\n",
       "      <th>2</th>\n",
       "      <td>5.8</td>\n",
       "      <td>False</td>\n",
       "    </tr>\n",
       "    <tr>\n",
       "      <th>3</th>\n",
       "      <td>5.5</td>\n",
       "      <td>False</td>\n",
       "    </tr>\n",
       "    <tr>\n",
       "      <th>4</th>\n",
       "      <td>6.0</td>\n",
       "      <td>False</td>\n",
       "    </tr>\n",
       "    <tr>\n",
       "      <th>5</th>\n",
       "      <td>5.2</td>\n",
       "      <td>False</td>\n",
       "    </tr>\n",
       "  </tbody>\n",
       "</table>\n",
       "</div>"
      ],
      "text/plain": [
       "   HbA1c   T2DM\n",
       "1    6.3  False\n",
       "2    5.8  False\n",
       "3    5.5  False\n",
       "4    6.0  False\n",
       "5    5.2  False"
      ]
     },
     "execution_count": 4,
     "metadata": {},
     "output_type": "execute_result"
    }
   ],
   "source": [
    "from download_data import read_raw_clinical_data\n",
    "\n",
    "def get_HbA1c_and_labels_data(path='.'):\n",
    "    # First we fetch the clinical data\n",
    "    clinical_data = read_raw_clinical_data(path)\n",
    "    # Then we output the HbA1c and the labels dataframe, for each user, may it be missing or not\n",
    "    return clinical_data[[\"HbA1c\", \"T2DM\"]]\n",
    "\n",
    "df_hba1c = get_HbA1c_and_labels_data()\n",
    "df_hba1c.head()"
   ]
  },
  {
   "cell_type": "markdown",
   "metadata": {},
   "source": [
    "#### CGM Data\n",
    "\n",
    "Now, we dive into the glucose monitored data. These are taken by the CGM iPro sensor (see link, blablabla).\n",
    "\n",
    "Let's import one of the users CGM data so we can have a look."
   ]
  },
  {
   "cell_type": "code",
   "execution_count": 5,
   "metadata": {},
   "outputs": [],
   "source": [
    "import matplotlib.pyplot as plt\n",
    "import pandas as pd\n",
    "\n",
    "def get_cgm_data(path='../'):\n",
    "    data = pd.read_csv('external_data.csv')\n",
    "    data.set_index('patient_id', inplace=True)\n",
    "    return data\n",
    "\n",
    "def get_patient_cgm_data(patient_id, path='../'):\n",
    "    cgm_data = get_cgm_data(path)\n",
    "    patient_cgm = cgm_data.loc[patient_id]\n",
    "    patient_cgm.dropna(inplace=True)\n",
    "    return patient_cgm\n",
    "\n",
    "cgm_data = get_patient_cgm_data(1)"
   ]
  },
  {
   "cell_type": "code",
   "execution_count": 6,
   "metadata": {},
   "outputs": [
    {
     "data": {
      "image/png": "[encoded data removed]",
      "text/plain": [
       "<Figure size 640x480 with 1 Axes>"
      ]
     },
     "metadata": {},
     "output_type": "display_data"
    }
   ],
   "source": [
    "def plot_cgm_data(cgm_data):\n",
    "    fig, axs = plt.subplots()\n",
    "    cgm_data.plot(label=\"glycemia\")\n",
    "    axs.legend()\n",
    "    \n",
    "plot_cgm_data(cgm_data)"
   ]
  },
  {
   "cell_type": "markdown",
   "metadata": {},
   "source": [
    "Talk about the interpolation, etc..."
   ]
  },
  {
   "cell_type": "markdown",
   "metadata": {},
   "source": [
    "What we might be interested in is the time in the normal range over the whole time serie, the overall variance, maximum values of the glycemia for instance. So to that end, we will interpolate the missing values to determine the following features:\n",
    "- Average time in range (time spent in the normal range (70 - 127) over the whole time serie)\n",
    "- Maximum value of the time serie\n",
    "- Overall variance of the data\n",
    "- Average glucose value"
   ]
  },
  {
   "cell_type": "code",
   "execution_count": 7,
   "metadata": {},
   "outputs": [
    {
     "name": "stdout",
     "output_type": "stream",
     "text": [
      "Extracted features: \n",
      "- Variance: 385.6137850241557\n",
      "- Mean: 98.42013888888889 \n",
      "- Average time in range 88.02% \n",
      "- Maximum: 155.0\n"
     ]
    }
   ],
   "source": [
    "def compute_variance(cgm_data):\n",
    "    return cgm_data.var()\n",
    "\n",
    "def compute_mean(cgm_data):\n",
    "    return cgm_data.mean()\n",
    "\n",
    "def compute_average_time_in_range(cgm_data, normal_range=[70, 127]):\n",
    "    index_in_range = cgm_data[(cgm_data >= 70) & (cgm_data <= 127)].index\n",
    "    return len(index_in_range)/len(cgm_data.index)\n",
    "\n",
    "def compute_maximum(cgm_data):\n",
    "    return cgm_data.max()\n",
    "\n",
    "variance = compute_variance(cgm_data)\n",
    "mean_value = compute_mean(cgm_data)\n",
    "avg_time_in_range = compute_average_time_in_range(cgm_data, normal_range=[70, 127])\n",
    "maximum_value = compute_maximum(cgm_data)\n",
    "\n",
    "print(f\"Extracted features: \" +\n",
    "      f\"\\n- Variance: {variance}\" +\n",
    "      f\"\\n- Mean: {mean_value} \" +\n",
    "      f\"\\n- Average time in range {str(avg_time_in_range*100)[0:5]}% \" +\n",
    "      f\"\\n- Maximum: {maximum_value}\")"
   ]
  },
  {
   "cell_type": "markdown",
   "metadata": {},
   "source": [
    "These new features regarding the patients are part of the data exploration we can do on the CGM time series, to finally determine whether the patient is going to be DT2 or not in addition to the clinical data.\n",
    "\n",
    "Other suggestions could be implemented: looking at postprandial overall values (that would use more of the time serie structure), night mean value, day mean value, day variance, etc..."
   ]
  },
  {
   "cell_type": "markdown",
   "metadata": {},
   "source": [
    "##### Some statistical insights on the CGM data"
   ]
  },
  {
   "cell_type": "markdown",
   "metadata": {},
   "source": [
    "One can import all the CGM data (48h sampled) using the following code snippet (be careful with NaNs)"
   ]
  },
  {
   "cell_type": "code",
   "execution_count": 8,
   "metadata": {},
   "outputs": [
    {
     "data": {
      "text/html": [
       "<div>\n",
       "<style scoped>\n",
       "    .dataframe tbody tr th:only-of-type {\n",
       "        vertical-align: middle;\n",
       "    }\n",
       "\n",
       "    .dataframe tbody tr th {\n",
       "        vertical-align: top;\n",
       "    }\n",
       "\n",
       "    .dataframe thead th {\n",
       "        text-align: right;\n",
       "    }\n",
       "</style>\n",
       "<table border=\"1\" class=\"dataframe\">\n",
       "  <thead>\n",
       "    <tr style=\"text-align: right;\">\n",
       "      <th></th>\n",
       "      <th>00:00</th>\n",
       "      <th>00:05</th>\n",
       "      <th>00:10</th>\n",
       "      <th>00:15</th>\n",
       "      <th>00:20</th>\n",
       "      <th>00:25</th>\n",
       "      <th>00:30</th>\n",
       "      <th>00:35</th>\n",
       "      <th>00:40</th>\n",
       "      <th>00:45</th>\n",
       "      <th>...</th>\n",
       "      <th>47:10</th>\n",
       "      <th>47:15</th>\n",
       "      <th>47:20</th>\n",
       "      <th>47:25</th>\n",
       "      <th>47:30</th>\n",
       "      <th>47:35</th>\n",
       "      <th>47:40</th>\n",
       "      <th>47:45</th>\n",
       "      <th>47:50</th>\n",
       "      <th>47:55</th>\n",
       "    </tr>\n",
       "    <tr>\n",
       "      <th>patient_id</th>\n",
       "      <th></th>\n",
       "      <th></th>\n",
       "      <th></th>\n",
       "      <th></th>\n",
       "      <th></th>\n",
       "      <th></th>\n",
       "      <th></th>\n",
       "      <th></th>\n",
       "      <th></th>\n",
       "      <th></th>\n",
       "      <th></th>\n",
       "      <th></th>\n",
       "      <th></th>\n",
       "      <th></th>\n",
       "      <th></th>\n",
       "      <th></th>\n",
       "      <th></th>\n",
       "      <th></th>\n",
       "      <th></th>\n",
       "      <th></th>\n",
       "      <th></th>\n",
       "    </tr>\n",
       "  </thead>\n",
       "  <tbody>\n",
       "    <tr>\n",
       "      <th>1</th>\n",
       "      <td>86.0</td>\n",
       "      <td>81.0</td>\n",
       "      <td>78.0</td>\n",
       "      <td>76.0</td>\n",
       "      <td>76.0</td>\n",
       "      <td>77.0</td>\n",
       "      <td>78.0</td>\n",
       "      <td>80.0</td>\n",
       "      <td>81.0</td>\n",
       "      <td>82.0</td>\n",
       "      <td>...</td>\n",
       "      <td>128.0</td>\n",
       "      <td>127.0</td>\n",
       "      <td>126.0</td>\n",
       "      <td>126.0</td>\n",
       "      <td>126.0</td>\n",
       "      <td>126.0</td>\n",
       "      <td>124.0</td>\n",
       "      <td>121.0</td>\n",
       "      <td>116.0</td>\n",
       "      <td>110.0</td>\n",
       "    </tr>\n",
       "    <tr>\n",
       "      <th>2</th>\n",
       "      <td>167.0</td>\n",
       "      <td>163.0</td>\n",
       "      <td>158.0</td>\n",
       "      <td>151.0</td>\n",
       "      <td>144.0</td>\n",
       "      <td>137.0</td>\n",
       "      <td>132.0</td>\n",
       "      <td>127.0</td>\n",
       "      <td>125.0</td>\n",
       "      <td>125.0</td>\n",
       "      <td>...</td>\n",
       "      <td>129.0</td>\n",
       "      <td>129.0</td>\n",
       "      <td>129.0</td>\n",
       "      <td>129.0</td>\n",
       "      <td>129.0</td>\n",
       "      <td>130.0</td>\n",
       "      <td>130.0</td>\n",
       "      <td>131.0</td>\n",
       "      <td>132.0</td>\n",
       "      <td>133.0</td>\n",
       "    </tr>\n",
       "    <tr>\n",
       "      <th>3</th>\n",
       "      <td>90.0</td>\n",
       "      <td>90.0</td>\n",
       "      <td>90.0</td>\n",
       "      <td>90.0</td>\n",
       "      <td>90.0</td>\n",
       "      <td>90.0</td>\n",
       "      <td>90.0</td>\n",
       "      <td>90.0</td>\n",
       "      <td>89.0</td>\n",
       "      <td>88.0</td>\n",
       "      <td>...</td>\n",
       "      <td>89.0</td>\n",
       "      <td>90.0</td>\n",
       "      <td>90.0</td>\n",
       "      <td>92.0</td>\n",
       "      <td>93.0</td>\n",
       "      <td>94.0</td>\n",
       "      <td>95.0</td>\n",
       "      <td>96.0</td>\n",
       "      <td>96.0</td>\n",
       "      <td>97.0</td>\n",
       "    </tr>\n",
       "    <tr>\n",
       "      <th>4</th>\n",
       "      <td>93.0</td>\n",
       "      <td>92.0</td>\n",
       "      <td>92.0</td>\n",
       "      <td>91.0</td>\n",
       "      <td>92.0</td>\n",
       "      <td>93.0</td>\n",
       "      <td>95.0</td>\n",
       "      <td>98.0</td>\n",
       "      <td>101.0</td>\n",
       "      <td>103.0</td>\n",
       "      <td>...</td>\n",
       "      <td>124.0</td>\n",
       "      <td>122.0</td>\n",
       "      <td>120.0</td>\n",
       "      <td>119.0</td>\n",
       "      <td>119.0</td>\n",
       "      <td>118.0</td>\n",
       "      <td>117.0</td>\n",
       "      <td>115.0</td>\n",
       "      <td>113.0</td>\n",
       "      <td>111.0</td>\n",
       "    </tr>\n",
       "    <tr>\n",
       "      <th>5</th>\n",
       "      <td>107.0</td>\n",
       "      <td>109.0</td>\n",
       "      <td>111.0</td>\n",
       "      <td>114.0</td>\n",
       "      <td>116.0</td>\n",
       "      <td>116.0</td>\n",
       "      <td>116.0</td>\n",
       "      <td>115.0</td>\n",
       "      <td>113.0</td>\n",
       "      <td>110.0</td>\n",
       "      <td>...</td>\n",
       "      <td>120.0</td>\n",
       "      <td>121.0</td>\n",
       "      <td>124.0</td>\n",
       "      <td>128.0</td>\n",
       "      <td>131.0</td>\n",
       "      <td>134.0</td>\n",
       "      <td>136.0</td>\n",
       "      <td>137.0</td>\n",
       "      <td>136.0</td>\n",
       "      <td>134.0</td>\n",
       "    </tr>\n",
       "  </tbody>\n",
       "</table>\n",
       "<p>5 rows × 576 columns</p>\n",
       "</div>"
      ],
      "text/plain": [
       "            00:00  00:05  00:10  00:15  00:20  00:25  00:30  00:35  00:40  \\\n",
       "patient_id                                                                  \n",
       "1            86.0   81.0   78.0   76.0   76.0   77.0   78.0   80.0   81.0   \n",
       "2           167.0  163.0  158.0  151.0  144.0  137.0  132.0  127.0  125.0   \n",
       "3            90.0   90.0   90.0   90.0   90.0   90.0   90.0   90.0   89.0   \n",
       "4            93.0   92.0   92.0   91.0   92.0   93.0   95.0   98.0  101.0   \n",
       "5           107.0  109.0  111.0  114.0  116.0  116.0  116.0  115.0  113.0   \n",
       "\n",
       "            00:45  ...  47:10  47:15  47:20  47:25  47:30  47:35  47:40  \\\n",
       "patient_id         ...                                                    \n",
       "1            82.0  ...  128.0  127.0  126.0  126.0  126.0  126.0  124.0   \n",
       "2           125.0  ...  129.0  129.0  129.0  129.0  129.0  130.0  130.0   \n",
       "3            88.0  ...   89.0   90.0   90.0   92.0   93.0   94.0   95.0   \n",
       "4           103.0  ...  124.0  122.0  120.0  119.0  119.0  118.0  117.0   \n",
       "5           110.0  ...  120.0  121.0  124.0  128.0  131.0  134.0  136.0   \n",
       "\n",
       "            47:45  47:50  47:55  \n",
       "patient_id                       \n",
       "1           121.0  116.0  110.0  \n",
       "2           131.0  132.0  133.0  \n",
       "3            96.0   96.0   97.0  \n",
       "4           115.0  113.0  111.0  \n",
       "5           137.0  136.0  134.0  \n",
       "\n",
       "[5 rows x 576 columns]"
      ]
     },
     "execution_count": 8,
     "metadata": {},
     "output_type": "execute_result"
    }
   ],
   "source": [
    "cgm_48h = get_cgm_data()\n",
    "cgm_48h.head()"
   ]
  },
  {
   "cell_type": "markdown",
   "metadata": {},
   "source": [
    "### Building predictive models"
   ]
  },
  {
   "cell_type": "markdown",
   "metadata": {},
   "source": [
    "For submitting to the [RAMP site](https://ramp.studio), you will need to create a `estimator.py` file that defines a `get_estimator` function which returns a scikit-learn estimator.\n",
    "\n",
    "The initial example classifier in your sandbox is:"
   ]
  },
  {
   "cell_type": "code",
   "execution_count": 9,
   "metadata": {},
   "outputs": [],
   "source": [
    "from sklearn.ensemble import RandomForestClassifier\n",
    "\n",
    "\n",
    "def get_estimator():\n",
    "    clf = RandomForestClassifier(\n",
    "        n_estimators=5, max_depth=5, random_state=61\n",
    "    )\n",
    "    return clf"
   ]
  },
  {
   "cell_type": "markdown",
   "metadata": {},
   "source": [
    "When developing locally, you can use `scikit-learn` tools to test a given model."
   ]
  },
  {
   "cell_type": "code",
   "execution_count": 10,
   "metadata": {},
   "outputs": [
    {
     "data": {
      "text/plain": [
       "array([0.92857143, 0.92857143, 0.92857143, 0.89285714, 0.81481481,\n",
       "       0.82142857, 0.96428571, 0.89285714, 0.78571429, 0.92592593,\n",
       "       0.85714286, 0.89285714, 0.85714286, 0.82142857, 0.92592593])"
      ]
     },
     "execution_count": 10,
     "metadata": {},
     "output_type": "execute_result"
    }
   ],
   "source": [
    "from sklearn.model_selection import cross_val_score\n",
    "from problem import get_cv\n",
    "\n",
    "cv = get_cv(X_train, y_train)\n",
    "cross_val_score(get_estimator(), X_train, y_train, cv=cv)"
   ]
  },
  {
   "cell_type": "markdown",
   "metadata": {},
   "source": [
    "You could easily train an test a model and the respective datasets."
   ]
  },
  {
   "cell_type": "code",
   "execution_count": 11,
   "metadata": {},
   "outputs": [
    {
     "data": {
      "text/plain": [
       "0.9130434782608695"
      ]
     },
     "execution_count": 11,
     "metadata": {},
     "output_type": "execute_result"
    }
   ],
   "source": [
    "model = get_estimator()\n",
    "model.fit(X_train, y_train)\n",
    "model.score(X_test, y_test)"
   ]
  },
  {
   "cell_type": "markdown",
   "metadata": {},
   "source": [
    "## Submission\n",
    "\n",
    "To submit your code, you can refer to the [online documentation](https://paris-saclay-cds.github.io/ramp-docs/ramp-workflow/stable/using_kits.html)"
   ]
  }
 ],
 "metadata": {
  "kernelspec": {
   "display_name": "Python 3 (ipykernel)",
   "language": "python",
   "name": "python3"
  },
  "language_info": {
   "codemirror_mode": {
    "name": "ipython",
    "version": 3
   },
   "file_extension": ".py",
   "mimetype": "text/x-python",
   "name": "python",
   "nbconvert_exporter": "python",
   "pygments_lexer": "ipython3",
   "version": "3.9.13"
  }
 },
 "nbformat": 4,
 "nbformat_minor": 4
}
