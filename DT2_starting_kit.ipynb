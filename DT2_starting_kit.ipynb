{
 "cells": [
  {
   "cell_type": "markdown",
   "metadata": {},
   "source": [
    "# <a href=\"https://ramp.studio/\">RAMP</a> on detecting Type 2 Diabetes in a non-invasive fashion\n",
    "\n",
    "_Authors:_\n",
    "- AMANI Alexandre\n",
    "- BISCARRAT Lilian\n",
    "- CHAUSSARD Alexandre\n",
    "- CLERGUE Eva\n",
    "- NORMAND Sophie\n",
    "- SALEMBIEN Tom\n",
    "\n",
    "# Introduction\n",
    "\n",
    "Diabetes is a growing disease, affecting over 10% of the worldwide population. The vast majority of diabetics are type 2 diabetics (96%), that is generally characterized by a resistance to insulin, which is a molecule that enables glucose to enter the cells and provide energy. Not being able to properly consume sugar results in several complications that are all tied up to the high sugar level concentration in the blood due to not being able to consume it, resulting in possible blindness, hearth disease, infections, and so on.\n",
    "\n",
    "Therefore, it is one today's most important challenge to properly diagnose diabetics, as short as possible to prevent complications to settle. At the moment, diabetes is diagnosed in multiple ways, one of the most secure and proper one being HbA1c measurement from blood samples. The measurement of HbA1c for a sain individual is around 5.7%, while it is said to be diabetic-like when it reaches 6.5% and more.\n",
    "\n",
    "While this technique has proved to be really efficient in the diagnosis, it has two main downsides that we would like to tackle in this study:\n",
    "- First, HbA1c is a post-disease settlement indicator, as it requires the patient to have abnormally high sugar levels over 3 months to be indicating the disease. One would rather like to be able to diagnose diabetes before it reaches that critical point.\n",
    "- Second, HbA1c being a blood measurement, which is naturally invasive for the patient and some may even be really reluctant and refuse to go for a diagnosis. Also, it requires careful analysis in a medical lab, which obviously costs money.\n",
    "\n",
    "As a result, the goal of our study is to provide a machine learning algorithm that is able to predict whether or not somebody may become diabetic in the coming time, based on blood glucose measurements from a non-invasive Continuous Glucose Monitor (CGM), as well as gathered clinical data for the patient over the duration of the study.\n",
    "\n",
    "(explain what are the features -not too much detail, we got deeper after-, what's the CGM thingy, what's iPro, framework of the study, link to the paper, etc...)\n",
    "\n",
    "# Getting started with the RAMP starting kit"
   ]
  },
  {
   "cell_type": "markdown",
   "metadata": {},
   "source": [
    "## Software prerequisites\n",
    "\n",
    "This starting kit requires the following dependencies:\n",
    "- numpy\n",
    "- pandas\n",
    "- scikit-learn\n",
    "- matplolib\n",
    "- jupyter\n"
   ]
  },
  {
   "cell_type": "markdown",
   "metadata": {},
   "source": [
    "## Getting the data"
   ]
  },
  {
   "cell_type": "markdown",
   "metadata": {},
   "source": [
    "The data are available in the `data` source folder."
   ]
  },
  {
   "cell_type": "markdown",
   "metadata": {},
   "source": [
    "## Explore the dataset"
   ]
  },
  {
   "cell_type": "markdown",
   "metadata": {},
   "source": [
    "### Clinical data"
   ]
  },
  {
   "cell_type": "markdown",
   "metadata": {},
   "source": [
    "We start with an inspection of the raw clinical dataset."
   ]
  },
  {
   "cell_type": "code",
   "execution_count": 1,
   "metadata": {},
   "outputs": [
    {
     "name": "stdout",
     "output_type": "stream",
     "text": [
      "Number of DT2 diagnosed patients: 8/208\n"
     ]
    }
   ],
   "source": [
    "from download_data import read_raw_clinical_data\n",
    "\n",
    "X = read_raw_clinical_data()\n",
    "y = X[\"T2DM\"].values\n",
    "\n",
    "print(f\"Number of DT2 diagnosed patients: {str(y.sum()/len(y) * 100)[0]}/{len(y)}\")"
   ]
  },
  {
   "cell_type": "code",
   "execution_count": 2,
   "metadata": {},
   "outputs": [
    {
     "data": {
      "text/html": [
       "<div>\n",
       "<style scoped>\n",
       "    .dataframe tbody tr th:only-of-type {\n",
       "        vertical-align: middle;\n",
       "    }\n",
       "\n",
       "    .dataframe tbody tr th {\n",
       "        vertical-align: top;\n",
       "    }\n",
       "\n",
       "    .dataframe thead th {\n",
       "        text-align: right;\n",
       "    }\n",
       "</style>\n",
       "<table border=\"1\" class=\"dataframe\">\n",
       "  <thead>\n",
       "    <tr style=\"text-align: right;\">\n",
       "      <th></th>\n",
       "      <th>gender</th>\n",
       "      <th>age</th>\n",
       "      <th>BMI</th>\n",
       "      <th>glycaemia</th>\n",
       "      <th>HbA1c</th>\n",
       "      <th>T2DM</th>\n",
       "    </tr>\n",
       "  </thead>\n",
       "  <tbody>\n",
       "    <tr>\n",
       "      <th>1</th>\n",
       "      <td>1</td>\n",
       "      <td>77</td>\n",
       "      <td>25.4</td>\n",
       "      <td>106</td>\n",
       "      <td>6.3</td>\n",
       "      <td>False</td>\n",
       "    </tr>\n",
       "    <tr>\n",
       "      <th>2</th>\n",
       "      <td>0</td>\n",
       "      <td>42</td>\n",
       "      <td>30.0</td>\n",
       "      <td>92</td>\n",
       "      <td>5.8</td>\n",
       "      <td>False</td>\n",
       "    </tr>\n",
       "    <tr>\n",
       "      <th>3</th>\n",
       "      <td>0</td>\n",
       "      <td>61</td>\n",
       "      <td>33.8</td>\n",
       "      <td>114</td>\n",
       "      <td>5.5</td>\n",
       "      <td>False</td>\n",
       "    </tr>\n",
       "    <tr>\n",
       "      <th>4</th>\n",
       "      <td>0</td>\n",
       "      <td>67</td>\n",
       "      <td>26.7</td>\n",
       "      <td>110</td>\n",
       "      <td>6.0</td>\n",
       "      <td>False</td>\n",
       "    </tr>\n",
       "    <tr>\n",
       "      <th>5</th>\n",
       "      <td>1</td>\n",
       "      <td>53</td>\n",
       "      <td>25.8</td>\n",
       "      <td>106</td>\n",
       "      <td>5.2</td>\n",
       "      <td>False</td>\n",
       "    </tr>\n",
       "  </tbody>\n",
       "</table>\n",
       "</div>"
      ],
      "text/plain": [
       "   gender  age   BMI  glycaemia  HbA1c   T2DM\n",
       "1       1   77  25.4        106    6.3  False\n",
       "2       0   42  30.0         92    5.8  False\n",
       "3       0   61  33.8        114    5.5  False\n",
       "4       0   67  26.7        110    6.0  False\n",
       "5       1   53  25.8        106    5.2  False"
      ]
     },
     "execution_count": 2,
     "metadata": {},
     "output_type": "execute_result"
    }
   ],
   "source": [
    "X.head()"
   ]
  },
  {
   "cell_type": "markdown",
   "metadata": {},
   "source": [
    "Explain the data features here"
   ]
  },
  {
   "cell_type": "markdown",
   "metadata": {},
   "source": [
    "Looking at the gender distribution (...)"
   ]
  },
  {
   "cell_type": "code",
   "execution_count": 3,
   "metadata": {},
   "outputs": [
    {
     "data": {
      "text/plain": [
       "1    105\n",
       "0    103\n",
       "Name: gender, dtype: int64"
      ]
     },
     "execution_count": 3,
     "metadata": {},
     "output_type": "execute_result"
    }
   ],
   "source": [
    "X[\"gender\"].value_counts()"
   ]
  },
  {
   "cell_type": "markdown",
   "metadata": {},
   "source": [
    "etc..."
   ]
  },
  {
   "cell_type": "markdown",
   "metadata": {},
   "source": [
    "#### BMI: One missing value"
   ]
  },
  {
   "cell_type": "markdown",
   "metadata": {},
   "source": [
    "Looking at the overall clinical data, we notice that we have a unique missing value for a BMI entry."
   ]
  },
  {
   "cell_type": "code",
   "execution_count": 4,
   "metadata": {},
   "outputs": [
    {
     "data": {
      "text/html": [
       "<div>\n",
       "<style scoped>\n",
       "    .dataframe tbody tr th:only-of-type {\n",
       "        vertical-align: middle;\n",
       "    }\n",
       "\n",
       "    .dataframe tbody tr th {\n",
       "        vertical-align: top;\n",
       "    }\n",
       "\n",
       "    .dataframe thead th {\n",
       "        text-align: right;\n",
       "    }\n",
       "</style>\n",
       "<table border=\"1\" class=\"dataframe\">\n",
       "  <thead>\n",
       "    <tr style=\"text-align: right;\">\n",
       "      <th></th>\n",
       "      <th>gender</th>\n",
       "      <th>age</th>\n",
       "      <th>BMI</th>\n",
       "      <th>glycaemia</th>\n",
       "      <th>HbA1c</th>\n",
       "      <th>T2DM</th>\n",
       "    </tr>\n",
       "  </thead>\n",
       "  <tbody>\n",
       "    <tr>\n",
       "      <th>91</th>\n",
       "      <td>1</td>\n",
       "      <td>72</td>\n",
       "      <td>NaN</td>\n",
       "      <td>96</td>\n",
       "      <td>5.7</td>\n",
       "      <td>False</td>\n",
       "    </tr>\n",
       "  </tbody>\n",
       "</table>\n",
       "</div>"
      ],
      "text/plain": [
       "    gender  age  BMI  glycaemia  HbA1c   T2DM\n",
       "91       1   72  NaN         96    5.7  False"
      ]
     },
     "execution_count": 4,
     "metadata": {},
     "output_type": "execute_result"
    }
   ],
   "source": [
    "X[X[\"BMI\"].isna()].head()"
   ]
  },
  {
   "cell_type": "markdown",
   "metadata": {},
   "source": [
    "We propose different approaches to fill the BMI missing value.\n",
    "\n",
    "##### Method 1: Imputation using the mean, with handcrafted prior\n",
    "\n",
    "We impute the missing value of the feature BIM by the average BIM of individuals of the same age and gender (handcrafted prior). \n",
    "\n",
    "As we can see on the following table, we do have some very similar individuals to enable us to safely determine the missing value. Luckily, we also have that the missing value entry has the same type 2 diabetes diagnosis of the others, which may be an additional prior item to compliment our imputation using the mean. "
   ]
  },
  {
   "cell_type": "code",
   "execution_count": 5,
   "metadata": {},
   "outputs": [
    {
     "data": {
      "text/html": [
       "<div>\n",
       "<style scoped>\n",
       "    .dataframe tbody tr th:only-of-type {\n",
       "        vertical-align: middle;\n",
       "    }\n",
       "\n",
       "    .dataframe tbody tr th {\n",
       "        vertical-align: top;\n",
       "    }\n",
       "\n",
       "    .dataframe thead th {\n",
       "        text-align: right;\n",
       "    }\n",
       "</style>\n",
       "<table border=\"1\" class=\"dataframe\">\n",
       "  <thead>\n",
       "    <tr style=\"text-align: right;\">\n",
       "      <th></th>\n",
       "      <th>gender</th>\n",
       "      <th>age</th>\n",
       "      <th>BMI</th>\n",
       "      <th>glycaemia</th>\n",
       "      <th>HbA1c</th>\n",
       "      <th>T2DM</th>\n",
       "    </tr>\n",
       "  </thead>\n",
       "  <tbody>\n",
       "    <tr>\n",
       "      <th>9</th>\n",
       "      <td>1</td>\n",
       "      <td>72</td>\n",
       "      <td>35.6</td>\n",
       "      <td>106</td>\n",
       "      <td>6.2</td>\n",
       "      <td>False</td>\n",
       "    </tr>\n",
       "    <tr>\n",
       "      <th>91</th>\n",
       "      <td>1</td>\n",
       "      <td>72</td>\n",
       "      <td>NaN</td>\n",
       "      <td>96</td>\n",
       "      <td>5.7</td>\n",
       "      <td>False</td>\n",
       "    </tr>\n",
       "    <tr>\n",
       "      <th>148</th>\n",
       "      <td>1</td>\n",
       "      <td>72</td>\n",
       "      <td>29.0</td>\n",
       "      <td>105</td>\n",
       "      <td>NaN</td>\n",
       "      <td>False</td>\n",
       "    </tr>\n",
       "  </tbody>\n",
       "</table>\n",
       "</div>"
      ],
      "text/plain": [
       "     gender  age   BMI  glycaemia  HbA1c   T2DM\n",
       "9         1   72  35.6        106    6.2  False\n",
       "91        1   72   NaN         96    5.7  False\n",
       "148       1   72  29.0        105    NaN  False"
      ]
     },
     "execution_count": 5,
     "metadata": {},
     "output_type": "execute_result"
    }
   ],
   "source": [
    "X[(X[\"age\"]==72) & (X[\"gender\"]==1)]"
   ]
  },
  {
   "cell_type": "markdown",
   "metadata": {},
   "source": [
    "Note that this approach is biased by the handcrafted prior we took. For instance, the HbA1c measurement of the entry `91` is much lower than the one used for imputation for the entry `9`. That indicates that the sugar level of the entry `91` is more controlled than `9`, specifically with an HbA1c around `5.5% < 6.2%`, which could be correlated with a carbohydrate limited alimentation for entry `91`. Therefore, the BMI could even be lowered if that reasoning proved to be true.  \n",
    "\n",
    "Tthe result of this handcrafted prior using the mean gives us an imputed value of **32.3**."
   ]
  },
  {
   "cell_type": "code",
   "execution_count": 6,
   "metadata": {},
   "outputs": [
    {
     "name": "stdout",
     "output_type": "stream",
     "text": [
      "BMI average value (over all samples): 29.993236714975847\n",
      "Imputed value (mean with handcrafted prior): 32.3\n"
     ]
    },
    {
     "data": {
      "text/plain": [
       "gender           1\n",
       "age             72\n",
       "BMI           32.3\n",
       "glycaemia       96\n",
       "HbA1c          5.7\n",
       "T2DM         False\n",
       "Name: 91, dtype: object"
      ]
     },
     "execution_count": 6,
     "metadata": {},
     "output_type": "execute_result"
    }
   ],
   "source": [
    "df = X[(X[\"age\"]==72) & (X[\"gender\"]==1)]\n",
    "\n",
    "print(f'BMI average value (over all samples): {X[\"BMI\"].mean()}')\n",
    "print(f'Imputed value (mean with handcrafted prior): {df[\"BMI\"].mean()}')\n",
    "\n",
    "X_imputed_mean = X.fillna(value={\"BMI\":df[\"BMI\"].mean()})\n",
    "X_imputed_mean.loc[91]"
   ]
  },
  {
   "cell_type": "markdown",
   "metadata": {},
   "source": [
    "##### Method 2: Multiple Imputation with Scikit-learn IterativeImputer\n",
    "\n",
    "The IterativeImputer models each feature with missing values as a function of other features, and uses that estimate for imputation. It does so in an iterated round-robin fashion: at each step, a feature column is designated as output y and the other feature columns are treated as inputs X. A regressor is fit on (X, y) for known y. Then, the regressor is used to predict the missing values of y.\n",
    "\n",
    "The imputed BMI value using that approach is **31.1**, which is slightly lower than the previous result, which may underpin the limits of our handcrafted prior."
   ]
  },
  {
   "cell_type": "code",
   "execution_count": 7,
   "metadata": {},
   "outputs": [
    {
     "name": "stdout",
     "output_type": "stream",
     "text": [
      "BMI average value (over all samples): 29.993236714975847\n",
      "Imputed value using IterativeImputer: 31.1\n"
     ]
    },
    {
     "data": {
      "text/plain": [
       "gender        0.0\n",
       "age          64.0\n",
       "BMI          31.1\n",
       "glycaemia    89.0\n",
       "HbA1c         6.1\n",
       "T2DM          1.0\n",
       "Name: 91, dtype: float64"
      ]
     },
     "execution_count": 7,
     "metadata": {},
     "output_type": "execute_result"
    }
   ],
   "source": [
    "from sklearn.experimental import enable_iterative_imputer\n",
    "from sklearn.impute import IterativeImputer\n",
    "import pandas as pd\n",
    "\n",
    "\n",
    "print(f'BMI average value (over all samples): {X[\"BMI\"].mean()}')\n",
    "\n",
    "imp = IterativeImputer(max_iter=10, random_state=0)\n",
    "X_imputed = pd.DataFrame(imp.fit_transform(X), columns=X.columns)\n",
    "\n",
    "print(f'Imputed value using IterativeImputer: {X_imputed[\"BMI\"].loc[91]}')\n",
    "\n",
    "X_imputed.loc[91]"
   ]
  },
  {
   "cell_type": "markdown",
   "metadata": {},
   "source": [
    "##### Method 3: Multiple Imputation with Scikit-learn KNN Imputer\n",
    "\n",
    "The KNNImputer class provides imputation for filling in missing values using the k-Nearest Neighbors approach. By default, an euclidean distance metric that supports missing values, nan_euclidean_distances, is used to find the nearest neighbors. Each missing feature is imputed using values from n_neighbors nearest neighbors that have a value for the feature. The feature of the neighbors are averaged uniformly or weighted by distance to each neighbor.\n",
    "\n",
    "\n",
    "The imputed BMI value is **31.1**, same as the iterative imputer."
   ]
  },
  {
   "cell_type": "code",
   "execution_count": 8,
   "metadata": {},
   "outputs": [
    {
     "name": "stdout",
     "output_type": "stream",
     "text": [
      "BMI average value (over all samples): 29.993236714975847\n",
      "Imputed value using KNNImputer: 31.1\n"
     ]
    },
    {
     "data": {
      "text/plain": [
       "gender        0.0\n",
       "age          64.0\n",
       "BMI          31.1\n",
       "glycaemia    89.0\n",
       "HbA1c         6.1\n",
       "T2DM          1.0\n",
       "Name: 91, dtype: float64"
      ]
     },
     "execution_count": 8,
     "metadata": {},
     "output_type": "execute_result"
    }
   ],
   "source": [
    "from sklearn.impute import KNNImputer\n",
    "\n",
    "print(f'BMI average value (over all samples): {X[\"BMI\"].mean()}')\n",
    "\n",
    "imputer = KNNImputer(n_neighbors=2, weights=\"uniform\")\n",
    "X_imputed_knn = pd.DataFrame(imputer.fit_transform(X), columns=X.columns)\n",
    "\n",
    "print(f'Imputed value using KNNImputer: {X_imputed_knn[\"BMI\"].loc[91]}')\n",
    "\n",
    "X_imputed_knn.loc[91]"
   ]
  },
  {
   "cell_type": "markdown",
   "metadata": {},
   "source": [
    "##### Conclusion on BMI missing value\n",
    "\n",
    "Looking at the previous results, we will assume that the handcrafted prior is not relevant enough to estimate the missing value. Since we believe in a better interpolation offered by the iterative imputer, we will stick to that one to fill the one BMI missing value."
   ]
  },
  {
   "cell_type": "markdown",
   "metadata": {},
   "source": [
    "#### Focus on the HbA1c\n",
    "\n",
    "The typical diagnosis of diabetes is done through HbA1c blood measurement, which characterizes the glucose value over 3 month. The threshold of 6.5% characterizes diabetic people according to... blablabla\n",
    "\n",
    "One can import the HbA1c measurements of the individual in our dataset. A statistical study is then proceeded."
   ]
  },
  {
   "cell_type": "code",
   "execution_count": 9,
   "metadata": {},
   "outputs": [
    {
     "data": {
      "text/html": [
       "<div>\n",
       "<style scoped>\n",
       "    .dataframe tbody tr th:only-of-type {\n",
       "        vertical-align: middle;\n",
       "    }\n",
       "\n",
       "    .dataframe tbody tr th {\n",
       "        vertical-align: top;\n",
       "    }\n",
       "\n",
       "    .dataframe thead th {\n",
       "        text-align: right;\n",
       "    }\n",
       "</style>\n",
       "<table border=\"1\" class=\"dataframe\">\n",
       "  <thead>\n",
       "    <tr style=\"text-align: right;\">\n",
       "      <th></th>\n",
       "      <th>HbA1c</th>\n",
       "      <th>T2DM</th>\n",
       "    </tr>\n",
       "  </thead>\n",
       "  <tbody>\n",
       "    <tr>\n",
       "      <th>1</th>\n",
       "      <td>6.3</td>\n",
       "      <td>False</td>\n",
       "    </tr>\n",
       "    <tr>\n",
       "      <th>2</th>\n",
       "      <td>5.8</td>\n",
       "      <td>False</td>\n",
       "    </tr>\n",
       "    <tr>\n",
       "      <th>3</th>\n",
       "      <td>5.5</td>\n",
       "      <td>False</td>\n",
       "    </tr>\n",
       "    <tr>\n",
       "      <th>4</th>\n",
       "      <td>6.0</td>\n",
       "      <td>False</td>\n",
       "    </tr>\n",
       "    <tr>\n",
       "      <th>5</th>\n",
       "      <td>5.2</td>\n",
       "      <td>False</td>\n",
       "    </tr>\n",
       "  </tbody>\n",
       "</table>\n",
       "</div>"
      ],
      "text/plain": [
       "   HbA1c   T2DM\n",
       "1    6.3  False\n",
       "2    5.8  False\n",
       "3    5.5  False\n",
       "4    6.0  False\n",
       "5    5.2  False"
      ]
     },
     "execution_count": 9,
     "metadata": {},
     "output_type": "execute_result"
    }
   ],
   "source": [
    "from download_data import read_raw_clinical_data\n",
    "\n",
    "def get_HbA1c_and_labels_data(path='.'):\n",
    "    # First we fetch the clinical data\n",
    "    clinical_data = read_raw_clinical_data(path)\n",
    "    # Then we output the HbA1c and the labels dataframe, for each user, may it be missing or not\n",
    "    return clinical_data[[\"HbA1c\", \"T2DM\"]]\n",
    "\n",
    "df_hba1c = get_HbA1c_and_labels_data()\n",
    "df_hba1c.head()"
   ]
  },
  {
   "cell_type": "markdown",
   "metadata": {},
   "source": [
    "Clinicaly, HbA1c blood measurement is the key metric to determine whether a patient is diabetic or not, with the fixed threshold of 6.5% which seperates diabetics (over 6.5%) from non diabetic people.\n",
    "\n",
    "We would like to make sure this clinical statement is verified on our dataset, at least for the vast majority of our samples."
   ]
  },
  {
   "cell_type": "code",
   "execution_count": 10,
   "metadata": {},
   "outputs": [
    {
     "data": {
      "text/plain": [
       "0.2928152867862463"
      ]
     },
     "execution_count": 10,
     "metadata": {},
     "output_type": "execute_result"
    }
   ],
   "source": [
    "df_hba1c[\"HbA1c\"].corr(df_hba1c[\"T2DM\"])"
   ]
  },
  {
   "cell_type": "code",
   "execution_count": 11,
   "metadata": {},
   "outputs": [
    {
     "data": {
      "text/plain": [
       "<AxesSubplot: xlabel='T2DM', ylabel='HbA1c'>"
      ]
     },
     "execution_count": 11,
     "metadata": {},
     "output_type": "execute_result"
    },
    {
     "data": {
      "image/png": "[encoded data removed]",
      "text/plain": [
       "<Figure size 640x480 with 1 Axes>"
      ]
     },
     "metadata": {},
     "output_type": "display_data"
    }
   ],
   "source": [
    "import seaborn as sns\n",
    "\n",
    "sns.boxplot(data=df_hba1c, x=\"T2DM\", y = \"HbA1c\")"
   ]
  },
  {
   "cell_type": "markdown",
   "metadata": {},
   "source": [
    "Why it doesn't work ? Probably coz the blood measurement is far before the diagnosis has been set, check the paper"
   ]
  },
  {
   "cell_type": "code",
   "execution_count": 12,
   "metadata": {},
   "outputs": [
    {
     "data": {
      "text/plain": [
       "<AxesSubplot: xlabel='HbA1c', ylabel='Count'>"
      ]
     },
     "execution_count": 12,
     "metadata": {},
     "output_type": "execute_result"
    },
    {
     "data": {
      "image/png": "[encoded data removed]",
      "text/plain": [
       "<Figure size 640x480 with 1 Axes>"
      ]
     },
     "metadata": {},
     "output_type": "display_data"
    }
   ],
   "source": [
    "sns.histplot(data=df_hba1c, hue=\"T2DM\", x = \"HbA1c\")"
   ]
  },
  {
   "cell_type": "markdown",
   "metadata": {},
   "source": [
    "#### CGM Data\n",
    "\n",
    "Now, we dive into the glucose monitored data. These are taken by the CGM iPro sensor (see link, blablabla).\n",
    "\n",
    "Let's import one of the users CGM data so we can have a look."
   ]
  },
  {
   "cell_type": "code",
   "execution_count": 13,
   "metadata": {},
   "outputs": [],
   "source": [
    "import matplotlib.pyplot as plt\n",
    "import pandas as pd\n",
    "from download_data import get_cgm_data as get_raw_cgm_data\n",
    "\n",
    "def get_cgm_data(path='../'):\n",
    "    data = pd.read_csv('external_data.csv')\n",
    "    data.set_index('patient_id', inplace=True)\n",
    "    return data\n",
    "\n",
    "def get_patient_cgm_data(patient_id, path='../'):\n",
    "    cgm_data = get_cgm_data(path)\n",
    "    patient_cgm = cgm_data.loc[patient_id]\n",
    "    patient_cgm.dropna(inplace=True)\n",
    "    return patient_cgm\n",
    "\n",
    "cgm_data = get_patient_cgm_data(1)"
   ]
  },
  {
   "cell_type": "code",
   "execution_count": 14,
   "metadata": {},
   "outputs": [
    {
     "data": {
      "text/plain": [
       "<AxesSubplot: >"
      ]
     },
     "execution_count": 14,
     "metadata": {},
     "output_type": "execute_result"
    },
    {
     "data": {
      "image/png": "[encoded data removed]",
      "text/plain": [
       "<Figure size 640x480 with 1 Axes>"
      ]
     },
     "metadata": {},
     "output_type": "display_data"
    }
   ],
   "source": [
    "raw_cgm_data = get_raw_cgm_data(6)\n",
    "raw_cgm_data.plot(marker='.', linestyle='-')"
   ]
  },
  {
   "cell_type": "markdown",
   "metadata": {},
   "source": [
    "##### Interpolation of the Continuous Glucose values\n",
    "\n",
    "As we can see on the previous curve, we might have some situations in which the CGM is not capturing the blood sugar value for various reasons (disconnection, high pressure on the measurement area, out of measurement area, ...).\n",
    "\n",
    "Interpolation is a method widely used to estimate missing CGM data by predicting values that would have been recorded if the sensor had not failed (see https://www.ncbi.nlm.nih.gov/pmc/articles/PMC3692219/).\n",
    "\n",
    "There are several methods for interpolation of missing CGM data, but the choice of method depends on the nature of the data and the goals of the analysis. For our application, we use the Linear interpolation method that has been accepted by the medical community through multiple grid systems (https://www.ncbi.nlm.nih.gov/pmc/articles/PMC2903980/). This method estimates missing values by connecting the neighboring observed values with a straight line. It assumes that the glucose values change linearly over time, which is also widely verified by short term linear forecasting of blood glucose models that are able to achieve impressive accuracy (15 minutes being a short range for instance).\n",
    "\n",
    "Some other commonly used interpolation methods are:\n",
    "\n",
    "- The cubic spline interpolation: This method estimates missing values by fitting a smooth curve to the observed data using cubic polynomials. Cubic spline interpolation assumes that the glucose values change smoothly over time.\n",
    "\n",
    "- The Kalman filter: This method estimates missing values by using a mathematical model that predicts the glucose values based on the observed data and the known properties of the system. Kalman filter interpolation assumes that the glucose values follow a stochastic process. This method has been widely in used recently to interpolate Glucose data."
   ]
  },
  {
   "cell_type": "code",
   "execution_count": 15,
   "metadata": {},
   "outputs": [
    {
     "data": {
      "text/plain": [
       "<AxesSubplot: >"
      ]
     },
     "execution_count": 15,
     "metadata": {},
     "output_type": "execute_result"
    },
    {
     "data": {
      "image/png": "[encoded data removed]",
      "text/plain": [
       "<Figure size 640x480 with 1 Axes>"
      ]
     },
     "metadata": {},
     "output_type": "display_data"
    }
   ],
   "source": [
    "cgm_data_interp = raw_cgm_data.interpolate(method=\"linear\")\n",
    "cgm_data_interp.plot(marker='.', linestyle='-')"
   ]
  },
  {
   "cell_type": "markdown",
   "metadata": {},
   "source": [
    "What we might be interested in is the time in the normal range over the whole time serie, the overall variance, maximum values of the glycemia for instance. So to that end, we will interpolate the missing values to determine the following features:\n",
    "- Average time in range (time spent in the normal range (70 - 127) over the whole time serie)\n",
    "- Maximum value of the time serie\n",
    "- Overall variance of the data\n",
    "- Average glucose value"
   ]
  },
  {
   "cell_type": "code",
   "execution_count": 16,
   "metadata": {},
   "outputs": [
    {
     "name": "stdout",
     "output_type": "stream",
     "text": [
      "Extracted features:\n",
      "  * CGM Variance: 385.6137850241557\n",
      "  * CGM Mean: 98.42013888888889\n",
      "  * CGM Time in range: 0.8802083333333334\n",
      "  * CGM Maximum: 155.0\n"
     ]
    }
   ],
   "source": [
    "def compute_variance(cgm_data):\n",
    "    return cgm_data.var()\n",
    "\n",
    "def compute_mean(cgm_data):\n",
    "    return cgm_data.mean()\n",
    "\n",
    "def compute_average_time_in_range(cgm_data, normal_range=[70, 127]):\n",
    "    index_in_range = cgm_data[(cgm_data >= 70) & (cgm_data <= 127)].index\n",
    "    return len(index_in_range)/len(cgm_data.index)\n",
    "\n",
    "def compute_maximum(cgm_data):\n",
    "    return cgm_data.max()\n",
    "\n",
    "additional_features = {\n",
    "    \"CGM Variance\":compute_variance,\n",
    "    \"CGM Mean\": compute_mean,\n",
    "    \"CGM Time in range\": compute_average_time_in_range,\n",
    "    \"CGM Maximum\": compute_maximum,\n",
    "}\n",
    "\n",
    "print(\"Extracted features:\")\n",
    "for name, fun in additional_features.items():\n",
    "    print(f'  * {name}: {fun(cgm_data)}')"
   ]
  },
  {
   "cell_type": "markdown",
   "metadata": {},
   "source": [
    "These new features regarding the patients are part of the data exploration we can do on the CGM time series, to finally determine whether the patient is going to be DT2 or not in addition to the clinical data.\n",
    "\n",
    "Other suggestions could be implemented: looking at postprandial overall values (that would use more of the time serie structure), night mean value, day mean value, day variance, etc..."
   ]
  },
  {
   "cell_type": "markdown",
   "metadata": {},
   "source": [
    "#### Some statistical insights on the CGM data"
   ]
  },
  {
   "cell_type": "markdown",
   "metadata": {},
   "source": [
    "One can import all the CGM data (48h sampled) using the following code snippet (be careful with NaNs)"
   ]
  },
  {
   "cell_type": "code",
   "execution_count": 17,
   "metadata": {},
   "outputs": [
    {
     "data": {
      "text/html": [
       "<div>\n",
       "<style scoped>\n",
       "    .dataframe tbody tr th:only-of-type {\n",
       "        vertical-align: middle;\n",
       "    }\n",
       "\n",
       "    .dataframe tbody tr th {\n",
       "        vertical-align: top;\n",
       "    }\n",
       "\n",
       "    .dataframe thead th {\n",
       "        text-align: right;\n",
       "    }\n",
       "</style>\n",
       "<table border=\"1\" class=\"dataframe\">\n",
       "  <thead>\n",
       "    <tr style=\"text-align: right;\">\n",
       "      <th></th>\n",
       "      <th>00:00</th>\n",
       "      <th>00:05</th>\n",
       "      <th>00:10</th>\n",
       "      <th>00:15</th>\n",
       "      <th>00:20</th>\n",
       "      <th>00:25</th>\n",
       "      <th>00:30</th>\n",
       "      <th>00:35</th>\n",
       "      <th>00:40</th>\n",
       "      <th>00:45</th>\n",
       "      <th>...</th>\n",
       "      <th>47:10</th>\n",
       "      <th>47:15</th>\n",
       "      <th>47:20</th>\n",
       "      <th>47:25</th>\n",
       "      <th>47:30</th>\n",
       "      <th>47:35</th>\n",
       "      <th>47:40</th>\n",
       "      <th>47:45</th>\n",
       "      <th>47:50</th>\n",
       "      <th>47:55</th>\n",
       "    </tr>\n",
       "    <tr>\n",
       "      <th>patient_id</th>\n",
       "      <th></th>\n",
       "      <th></th>\n",
       "      <th></th>\n",
       "      <th></th>\n",
       "      <th></th>\n",
       "      <th></th>\n",
       "      <th></th>\n",
       "      <th></th>\n",
       "      <th></th>\n",
       "      <th></th>\n",
       "      <th></th>\n",
       "      <th></th>\n",
       "      <th></th>\n",
       "      <th></th>\n",
       "      <th></th>\n",
       "      <th></th>\n",
       "      <th></th>\n",
       "      <th></th>\n",
       "      <th></th>\n",
       "      <th></th>\n",
       "      <th></th>\n",
       "    </tr>\n",
       "  </thead>\n",
       "  <tbody>\n",
       "    <tr>\n",
       "      <th>1</th>\n",
       "      <td>86.0</td>\n",
       "      <td>81.0</td>\n",
       "      <td>78.0</td>\n",
       "      <td>76.0</td>\n",
       "      <td>76.0</td>\n",
       "      <td>77.0</td>\n",
       "      <td>78.0</td>\n",
       "      <td>80.0</td>\n",
       "      <td>81.0</td>\n",
       "      <td>82.0</td>\n",
       "      <td>...</td>\n",
       "      <td>128.0</td>\n",
       "      <td>127.0</td>\n",
       "      <td>126.0</td>\n",
       "      <td>126.0</td>\n",
       "      <td>126.0</td>\n",
       "      <td>126.0</td>\n",
       "      <td>124.0</td>\n",
       "      <td>121.0</td>\n",
       "      <td>116.0</td>\n",
       "      <td>110.0</td>\n",
       "    </tr>\n",
       "    <tr>\n",
       "      <th>2</th>\n",
       "      <td>167.0</td>\n",
       "      <td>163.0</td>\n",
       "      <td>158.0</td>\n",
       "      <td>151.0</td>\n",
       "      <td>144.0</td>\n",
       "      <td>137.0</td>\n",
       "      <td>132.0</td>\n",
       "      <td>127.0</td>\n",
       "      <td>125.0</td>\n",
       "      <td>125.0</td>\n",
       "      <td>...</td>\n",
       "      <td>129.0</td>\n",
       "      <td>129.0</td>\n",
       "      <td>129.0</td>\n",
       "      <td>129.0</td>\n",
       "      <td>129.0</td>\n",
       "      <td>130.0</td>\n",
       "      <td>130.0</td>\n",
       "      <td>131.0</td>\n",
       "      <td>132.0</td>\n",
       "      <td>133.0</td>\n",
       "    </tr>\n",
       "    <tr>\n",
       "      <th>3</th>\n",
       "      <td>90.0</td>\n",
       "      <td>90.0</td>\n",
       "      <td>90.0</td>\n",
       "      <td>90.0</td>\n",
       "      <td>90.0</td>\n",
       "      <td>90.0</td>\n",
       "      <td>90.0</td>\n",
       "      <td>90.0</td>\n",
       "      <td>89.0</td>\n",
       "      <td>88.0</td>\n",
       "      <td>...</td>\n",
       "      <td>89.0</td>\n",
       "      <td>90.0</td>\n",
       "      <td>90.0</td>\n",
       "      <td>92.0</td>\n",
       "      <td>93.0</td>\n",
       "      <td>94.0</td>\n",
       "      <td>95.0</td>\n",
       "      <td>96.0</td>\n",
       "      <td>96.0</td>\n",
       "      <td>97.0</td>\n",
       "    </tr>\n",
       "    <tr>\n",
       "      <th>4</th>\n",
       "      <td>93.0</td>\n",
       "      <td>92.0</td>\n",
       "      <td>92.0</td>\n",
       "      <td>91.0</td>\n",
       "      <td>92.0</td>\n",
       "      <td>93.0</td>\n",
       "      <td>95.0</td>\n",
       "      <td>98.0</td>\n",
       "      <td>101.0</td>\n",
       "      <td>103.0</td>\n",
       "      <td>...</td>\n",
       "      <td>124.0</td>\n",
       "      <td>122.0</td>\n",
       "      <td>120.0</td>\n",
       "      <td>119.0</td>\n",
       "      <td>119.0</td>\n",
       "      <td>118.0</td>\n",
       "      <td>117.0</td>\n",
       "      <td>115.0</td>\n",
       "      <td>113.0</td>\n",
       "      <td>111.0</td>\n",
       "    </tr>\n",
       "    <tr>\n",
       "      <th>5</th>\n",
       "      <td>107.0</td>\n",
       "      <td>109.0</td>\n",
       "      <td>111.0</td>\n",
       "      <td>114.0</td>\n",
       "      <td>116.0</td>\n",
       "      <td>116.0</td>\n",
       "      <td>116.0</td>\n",
       "      <td>115.0</td>\n",
       "      <td>113.0</td>\n",
       "      <td>110.0</td>\n",
       "      <td>...</td>\n",
       "      <td>120.0</td>\n",
       "      <td>121.0</td>\n",
       "      <td>124.0</td>\n",
       "      <td>128.0</td>\n",
       "      <td>131.0</td>\n",
       "      <td>134.0</td>\n",
       "      <td>136.0</td>\n",
       "      <td>137.0</td>\n",
       "      <td>136.0</td>\n",
       "      <td>134.0</td>\n",
       "    </tr>\n",
       "  </tbody>\n",
       "</table>\n",
       "<p>5 rows × 576 columns</p>\n",
       "</div>"
      ],
      "text/plain": [
       "            00:00  00:05  00:10  00:15  00:20  00:25  00:30  00:35  00:40  \\\n",
       "patient_id                                                                  \n",
       "1            86.0   81.0   78.0   76.0   76.0   77.0   78.0   80.0   81.0   \n",
       "2           167.0  163.0  158.0  151.0  144.0  137.0  132.0  127.0  125.0   \n",
       "3            90.0   90.0   90.0   90.0   90.0   90.0   90.0   90.0   89.0   \n",
       "4            93.0   92.0   92.0   91.0   92.0   93.0   95.0   98.0  101.0   \n",
       "5           107.0  109.0  111.0  114.0  116.0  116.0  116.0  115.0  113.0   \n",
       "\n",
       "            00:45  ...  47:10  47:15  47:20  47:25  47:30  47:35  47:40  \\\n",
       "patient_id         ...                                                    \n",
       "1            82.0  ...  128.0  127.0  126.0  126.0  126.0  126.0  124.0   \n",
       "2           125.0  ...  129.0  129.0  129.0  129.0  129.0  130.0  130.0   \n",
       "3            88.0  ...   89.0   90.0   90.0   92.0   93.0   94.0   95.0   \n",
       "4           103.0  ...  124.0  122.0  120.0  119.0  119.0  118.0  117.0   \n",
       "5           110.0  ...  120.0  121.0  124.0  128.0  131.0  134.0  136.0   \n",
       "\n",
       "            47:45  47:50  47:55  \n",
       "patient_id                       \n",
       "1           121.0  116.0  110.0  \n",
       "2           131.0  132.0  133.0  \n",
       "3            96.0   96.0   97.0  \n",
       "4           115.0  113.0  111.0  \n",
       "5           137.0  136.0  134.0  \n",
       "\n",
       "[5 rows x 576 columns]"
      ]
     },
     "execution_count": 17,
     "metadata": {},
     "output_type": "execute_result"
    }
   ],
   "source": [
    "cgm_48h = get_cgm_data()\n",
    "cgm_48h.head()"
   ]
  },
  {
   "cell_type": "markdown",
   "metadata": {},
   "source": [
    "## Building predictive models"
   ]
  },
  {
   "cell_type": "markdown",
   "metadata": {},
   "source": [
    "First we fetch the training and testing sets"
   ]
  },
  {
   "cell_type": "code",
   "execution_count": 18,
   "metadata": {},
   "outputs": [],
   "source": [
    "from problem import get_train_data, get_test_data\n",
    "\n",
    "X_train, y_train = get_train_data()\n",
    "X_test, y_test = get_test_data()"
   ]
  },
  {
   "cell_type": "markdown",
   "metadata": {},
   "source": [
    "For submitting to the [RAMP site](https://ramp.studio), you will need to create a `estimator.py` file that defines a `get_estimator` function which returns a scikit-learn estimator.\n",
    "\n",
    "The initial example classifier in your sandbox is:"
   ]
  },
  {
   "cell_type": "code",
   "execution_count": 19,
   "metadata": {},
   "outputs": [],
   "source": [
    "import sklearn.preprocessing as preprocessing\n",
    "from sklearn.pipeline import make_pipeline\n",
    "from sklearn.ensemble import RandomForestClassifier\n",
    "import numpy as np\n",
    "\n",
    "# Functions to fetch the CGM data and plug new features in the dataset taken from the series\n",
    "def get_cgm_data():\n",
    "    data = pd.read_csv('external_data.csv')\n",
    "    data.set_index('patient_id', inplace=True)\n",
    "    return data\n",
    "\n",
    "def get_patient_cgm_data(patient_id):\n",
    "    cgm_data = get_cgm_data()\n",
    "    patient_cgm = cgm_data.loc[patient_id]\n",
    "    patient_cgm.dropna(inplace=True)\n",
    "    return patient_cgm\n",
    "\n",
    "def add_cgm_feature(clinical_data, feature_name, compute_feature_function):\n",
    "    n_individuals = len(clinical_data)\n",
    "    feature_column = np.zeros((n_individuals,))\n",
    "\n",
    "    for i, user_id in enumerate(clinical_data.index.values):\n",
    "        cgm_data = get_patient_cgm_data(int(user_id))\n",
    "        feature = compute_feature_function(cgm_data)\n",
    "        feature_column[i] = feature\n",
    "\n",
    "    clinical_data[feature_name] = feature_column\n",
    "    return clinical_data\n",
    "\n",
    "# Wrapper for the feature extraction\n",
    "class FeatureExtractor:\n",
    "    \n",
    "    def __init__(self):\n",
    "        pass\n",
    "    \n",
    "    def fit(self, X, y):\n",
    "        return self\n",
    "    \n",
    "    def transform(self, X):\n",
    "        for name, fun in additional_features.items():\n",
    "            X = add_cgm_feature(X, name, fun)\n",
    "        return X\n",
    "\n",
    "# Minimal preprocessing of the data\n",
    "def get_preprocessing():\n",
    "    return preprocessing.StandardScaler(), preprocessing.MinMaxScaler()\n",
    "            \n",
    "def get_estimator():\n",
    "    \n",
    "    feature_extractor = FeatureExtractor()\n",
    "    \n",
    "    classifier = RandomForestClassifier(\n",
    "        n_estimators=50, random_state=61\n",
    "    )\n",
    "    \n",
    "    pipe = make_pipeline(\n",
    "        feature_extractor,\n",
    "        *get_preprocessing(),\n",
    "        classifier\n",
    "    )\n",
    "    \n",
    "    return pipe"
   ]
  },
  {
   "cell_type": "code",
   "execution_count": 20,
   "metadata": {},
   "outputs": [
    {
     "data": {
      "text/html": [
       "<div>\n",
       "<style scoped>\n",
       "    .dataframe tbody tr th:only-of-type {\n",
       "        vertical-align: middle;\n",
       "    }\n",
       "\n",
       "    .dataframe tbody tr th {\n",
       "        vertical-align: top;\n",
       "    }\n",
       "\n",
       "    .dataframe thead th {\n",
       "        text-align: right;\n",
       "    }\n",
       "</style>\n",
       "<table border=\"1\" class=\"dataframe\">\n",
       "  <thead>\n",
       "    <tr style=\"text-align: right;\">\n",
       "      <th></th>\n",
       "      <th>gender</th>\n",
       "      <th>age</th>\n",
       "      <th>BMI</th>\n",
       "      <th>glycaemia</th>\n",
       "      <th>CGM Variance</th>\n",
       "      <th>CGM Mean</th>\n",
       "      <th>CGM Time in range</th>\n",
       "      <th>CGM Maximum</th>\n",
       "    </tr>\n",
       "    <tr>\n",
       "      <th>patient_id</th>\n",
       "      <th></th>\n",
       "      <th></th>\n",
       "      <th></th>\n",
       "      <th></th>\n",
       "      <th></th>\n",
       "      <th></th>\n",
       "      <th></th>\n",
       "      <th></th>\n",
       "    </tr>\n",
       "  </thead>\n",
       "  <tbody>\n",
       "    <tr>\n",
       "      <th>57</th>\n",
       "      <td>1.0</td>\n",
       "      <td>62.0</td>\n",
       "      <td>34.9</td>\n",
       "      <td>84.0</td>\n",
       "      <td>202.075314</td>\n",
       "      <td>98.090278</td>\n",
       "      <td>0.961806</td>\n",
       "      <td>153.0</td>\n",
       "    </tr>\n",
       "    <tr>\n",
       "      <th>201</th>\n",
       "      <td>0.0</td>\n",
       "      <td>70.0</td>\n",
       "      <td>27.9</td>\n",
       "      <td>111.0</td>\n",
       "      <td>58.625868</td>\n",
       "      <td>105.279514</td>\n",
       "      <td>0.993056</td>\n",
       "      <td>128.0</td>\n",
       "    </tr>\n",
       "    <tr>\n",
       "      <th>56</th>\n",
       "      <td>0.0</td>\n",
       "      <td>46.0</td>\n",
       "      <td>41.1</td>\n",
       "      <td>120.0</td>\n",
       "      <td>152.851196</td>\n",
       "      <td>112.364583</td>\n",
       "      <td>0.887153</td>\n",
       "      <td>152.0</td>\n",
       "    </tr>\n",
       "    <tr>\n",
       "      <th>76</th>\n",
       "      <td>0.0</td>\n",
       "      <td>38.0</td>\n",
       "      <td>34.0</td>\n",
       "      <td>98.0</td>\n",
       "      <td>279.174538</td>\n",
       "      <td>101.432292</td>\n",
       "      <td>0.907986</td>\n",
       "      <td>153.0</td>\n",
       "    </tr>\n",
       "    <tr>\n",
       "      <th>19</th>\n",
       "      <td>1.0</td>\n",
       "      <td>59.0</td>\n",
       "      <td>32.2</td>\n",
       "      <td>89.0</td>\n",
       "      <td>174.381894</td>\n",
       "      <td>93.698785</td>\n",
       "      <td>0.961806</td>\n",
       "      <td>131.0</td>\n",
       "    </tr>\n",
       "    <tr>\n",
       "      <th>...</th>\n",
       "      <td>...</td>\n",
       "      <td>...</td>\n",
       "      <td>...</td>\n",
       "      <td>...</td>\n",
       "      <td>...</td>\n",
       "      <td>...</td>\n",
       "      <td>...</td>\n",
       "      <td>...</td>\n",
       "    </tr>\n",
       "    <tr>\n",
       "      <th>67</th>\n",
       "      <td>0.0</td>\n",
       "      <td>58.0</td>\n",
       "      <td>27.0</td>\n",
       "      <td>114.0</td>\n",
       "      <td>124.931002</td>\n",
       "      <td>94.892361</td>\n",
       "      <td>0.998264</td>\n",
       "      <td>128.0</td>\n",
       "    </tr>\n",
       "    <tr>\n",
       "      <th>177</th>\n",
       "      <td>0.0</td>\n",
       "      <td>48.0</td>\n",
       "      <td>31.8</td>\n",
       "      <td>97.0</td>\n",
       "      <td>542.006908</td>\n",
       "      <td>111.006944</td>\n",
       "      <td>0.809028</td>\n",
       "      <td>172.0</td>\n",
       "    </tr>\n",
       "    <tr>\n",
       "      <th>113</th>\n",
       "      <td>0.0</td>\n",
       "      <td>67.0</td>\n",
       "      <td>27.0</td>\n",
       "      <td>96.0</td>\n",
       "      <td>480.467198</td>\n",
       "      <td>98.423611</td>\n",
       "      <td>0.873264</td>\n",
       "      <td>163.0</td>\n",
       "    </tr>\n",
       "    <tr>\n",
       "      <th>175</th>\n",
       "      <td>1.0</td>\n",
       "      <td>59.0</td>\n",
       "      <td>25.0</td>\n",
       "      <td>101.0</td>\n",
       "      <td>94.154490</td>\n",
       "      <td>104.196181</td>\n",
       "      <td>0.982639</td>\n",
       "      <td>137.0</td>\n",
       "    </tr>\n",
       "    <tr>\n",
       "      <th>28</th>\n",
       "      <td>1.0</td>\n",
       "      <td>65.0</td>\n",
       "      <td>31.6</td>\n",
       "      <td>122.0</td>\n",
       "      <td>210.121954</td>\n",
       "      <td>108.092014</td>\n",
       "      <td>0.899306</td>\n",
       "      <td>150.0</td>\n",
       "    </tr>\n",
       "  </tbody>\n",
       "</table>\n",
       "<p>139 rows × 8 columns</p>\n",
       "</div>"
      ],
      "text/plain": [
       "            gender   age   BMI  glycaemia  CGM Variance    CGM Mean  \\\n",
       "patient_id                                                            \n",
       "57             1.0  62.0  34.9       84.0    202.075314   98.090278   \n",
       "201            0.0  70.0  27.9      111.0     58.625868  105.279514   \n",
       "56             0.0  46.0  41.1      120.0    152.851196  112.364583   \n",
       "76             0.0  38.0  34.0       98.0    279.174538  101.432292   \n",
       "19             1.0  59.0  32.2       89.0    174.381894   93.698785   \n",
       "...            ...   ...   ...        ...           ...         ...   \n",
       "67             0.0  58.0  27.0      114.0    124.931002   94.892361   \n",
       "177            0.0  48.0  31.8       97.0    542.006908  111.006944   \n",
       "113            0.0  67.0  27.0       96.0    480.467198   98.423611   \n",
       "175            1.0  59.0  25.0      101.0     94.154490  104.196181   \n",
       "28             1.0  65.0  31.6      122.0    210.121954  108.092014   \n",
       "\n",
       "            CGM Time in range  CGM Maximum  \n",
       "patient_id                                  \n",
       "57                   0.961806        153.0  \n",
       "201                  0.993056        128.0  \n",
       "56                   0.887153        152.0  \n",
       "76                   0.907986        153.0  \n",
       "19                   0.961806        131.0  \n",
       "...                       ...          ...  \n",
       "67                   0.998264        128.0  \n",
       "177                  0.809028        172.0  \n",
       "113                  0.873264        163.0  \n",
       "175                  0.982639        137.0  \n",
       "28                   0.899306        150.0  \n",
       "\n",
       "[139 rows x 8 columns]"
      ]
     },
     "execution_count": 20,
     "metadata": {},
     "output_type": "execute_result"
    }
   ],
   "source": [
    "feature_extractor = FeatureExtractor()\n",
    "feature_extractor.transform(X_train)"
   ]
  },
  {
   "cell_type": "markdown",
   "metadata": {},
   "source": [
    "When developing locally, you can use `scikit-learn` tools to test a given model."
   ]
  },
  {
   "cell_type": "code",
   "execution_count": 21,
   "metadata": {},
   "outputs": [
    {
     "data": {
      "text/plain": [
       "array([0.92857143, 0.92857143, 0.92857143, 0.89285714, 0.92592593,\n",
       "       0.92857143, 0.92857143, 0.89285714, 0.89285714, 0.92592593,\n",
       "       0.89285714, 0.92857143, 0.92857143, 0.89285714, 0.92592593])"
      ]
     },
     "execution_count": 21,
     "metadata": {},
     "output_type": "execute_result"
    }
   ],
   "source": [
    "from sklearn.model_selection import cross_val_score\n",
    "from problem import get_cv\n",
    "\n",
    "cv = get_cv(X_train, y_train)\n",
    "cross_val_score(get_estimator(), X_train, y_train, cv=cv)"
   ]
  },
  {
   "cell_type": "markdown",
   "metadata": {},
   "source": [
    "You could easily train an test a model and the respective datasets."
   ]
  },
  {
   "cell_type": "code",
   "execution_count": 22,
   "metadata": {},
   "outputs": [],
   "source": [
    "model = get_estimator()\n",
    "model.fit(X_train, y_train)\n",
    "\n",
    "y_true = y_test\n",
    "y_pred = model.predict(X_test)"
   ]
  },
  {
   "cell_type": "code",
   "execution_count": 23,
   "metadata": {},
   "outputs": [
    {
     "name": "stdout",
     "output_type": "stream",
     "text": [
      "* Balanced Accuracy: 0.5753968253968254\n",
      "* F1: 0.25\n",
      "* Precision: 0.5\n",
      "* Recall: 0.16666666666666666\n",
      "Confusion matrix\n"
     ]
    },
    {
     "data": {
      "text/plain": [
       "array([[62,  1],\n",
       "       [ 5,  1]], dtype=int64)"
      ]
     },
     "execution_count": 23,
     "metadata": {},
     "output_type": "execute_result"
    }
   ],
   "source": [
    "import sklearn.metrics as metrics\n",
    "\n",
    "metrics_list = {\n",
    "    \"Balanced Accuracy\":metrics.balanced_accuracy_score, \n",
    "    \"F1\":metrics.f1_score, \n",
    "    \"Precision\":metrics.precision_score, \n",
    "    \"Recall\":metrics.recall_score\n",
    "}\n",
    "\n",
    "for name, metric in metrics_list.items():\n",
    "    print(f\"* {name}: {metric(y_true, y_pred)}\")\n",
    "\n",
    "print(\"Confusion matrix\")\n",
    "metrics.confusion_matrix(y_true, y_pred)"
   ]
  },
  {
   "cell_type": "code",
   "execution_count": 24,
   "metadata": {},
   "outputs": [
    {
     "name": "stdout",
     "output_type": "stream",
     "text": [
      "[0 0 0 0 0 0 0 0 0 0 0 0 0 0 0 0 0 0 0 0 0 0 0 0 0 0 0 0 0 0 0 1 0 0 0 0 0\n",
      " 0 0 0 0 0 0 0 0 0 0 0 0 0 0 0 0 1 0 0 0 0 0 0 0 0 0 0 0 0 0 0 0]\n"
     ]
    }
   ],
   "source": [
    "print(y_pred)"
   ]
  },
  {
   "cell_type": "markdown",
   "metadata": {},
   "source": [
    "# Submission\n",
    "\n",
    "To submit your code, you can refer to the [online documentation](https://paris-saclay-cds.github.io/ramp-docs/ramp-workflow/stable/using_kits.html)"
   ]
  },
  {
   "cell_type": "code",
   "execution_count": null,
   "metadata": {},
   "outputs": [],
   "source": []
  }
 ],
 "metadata": {
  "kernelspec": {
   "display_name": "Python 3 (ipykernel)",
   "language": "python",
   "name": "python3"
  },
  "language_info": {
   "codemirror_mode": {
    "name": "ipython",
    "version": 3
   },
   "file_extension": ".py",
   "mimetype": "text/x-python",
   "name": "python",
   "nbconvert_exporter": "python",
   "pygments_lexer": "ipython3",
   "version": "3.9.13"
  }
 },
 "nbformat": 4,
 "nbformat_minor": 4
}
